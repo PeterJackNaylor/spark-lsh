{
 "cells": [
  {
   "cell_type": "code",
   "execution_count": 1,
   "metadata": {
    "ExecuteTime": {
     "end_time": "2017-10-31T10:34:01.727727Z",
     "start_time": "2017-10-31T10:33:38.554580Z"
    }
   },
   "outputs": [
    {
     "name": "stdout",
     "output_type": "stream",
     "text": [
      "Welcome to\n",
      "      ____              __\n",
      "     / __/__  ___ _____/ /__\n",
      "    _\\ \\/ _ \\/ _ `/ __/  '_/\n",
      "   /__ / .__/\\_,_/_/ /_/\\_\\   version 2.2.0\n",
      "      /_/\n",
      "\n",
      "Using Python version 3.6.2 (default, Sep 21 2017 18:29:43)\n",
      "SparkSession available as 'spark'.\n"
     ]
    }
   ],
   "source": [
    "import os\n",
    "sparkFile = os.path.join(os.environ[\"SPARK_HOME\"], 'python/pyspark/shell.py')\n",
    "exec(compile(open(sparkFile, \"rb\").read(), sparkFile, 'exec'))"
   ]
  },
  {
   "cell_type": "markdown",
   "metadata": {},
   "source": [
    "# \"Hello world\""
   ]
  },
  {
   "cell_type": "code",
   "execution_count": 2,
   "metadata": {
    "ExecuteTime": {
     "end_time": "2017-10-31T10:34:01.752728Z",
     "start_time": "2017-10-31T10:34:01.731546Z"
    }
   },
   "outputs": [
    {
     "data": {
      "text/html": [
       "\n",
       "        <div>\n",
       "            <p><b>SparkContext</b></p>\n",
       "\n",
       "            <p><a href=\"http://10.30.51.240:4040\">Spark UI</a></p>\n",
       "\n",
       "            <dl>\n",
       "              <dt>Version</dt>\n",
       "                <dd><code>v2.2.0</code></dd>\n",
       "              <dt>Master</dt>\n",
       "                <dd><code>local[*]</code></dd>\n",
       "              <dt>AppName</dt>\n",
       "                <dd><code>pyspark-shell</code></dd>\n",
       "            </dl>\n",
       "        </div>\n",
       "        "
      ],
      "text/plain": [
       "<SparkContext master=local[*] appName=pyspark-shell>"
      ]
     },
     "execution_count": 2,
     "metadata": {},
     "output_type": "execute_result"
    }
   ],
   "source": [
    "sc"
   ]
  },
  {
   "cell_type": "markdown",
   "metadata": {
    "collapsed": true
   },
   "source": [
    "If PySpart was correctly installed, the variable `sc` (for SparkContent) should be initialized. `sc` is used as the driver program to manage the cluster resources. Below there is an example of π estimation using Spark."
   ]
  },
  {
   "cell_type": "code",
   "execution_count": 3,
   "metadata": {
    "ExecuteTime": {
     "end_time": "2017-10-31T10:34:03.183037Z",
     "start_time": "2017-10-31T10:34:01.755841Z"
    }
   },
   "outputs": [
    {
     "name": "stdout",
     "output_type": "stream",
     "text": [
      "3.15664\n"
     ]
    }
   ],
   "source": [
    "import random\n",
    "num_samples = 100000\n",
    "\n",
    "def inside(p):     \n",
    "  x, y = random.random(), random.random()\n",
    "  return x*x + y*y < 1\n",
    "\n",
    "count = sc.parallelize(range(0, num_samples)).filter(inside).count()\n",
    "\n",
    "pi = 4 * count / num_samples\n",
    "print(pi)"
   ]
  },
  {
   "cell_type": "markdown",
   "metadata": {},
   "source": [
    "# Basic operations"
   ]
  },
  {
   "cell_type": "markdown",
   "metadata": {},
   "source": [
    "## Read files"
   ]
  },
  {
   "cell_type": "code",
   "execution_count": 4,
   "metadata": {
    "ExecuteTime": {
     "end_time": "2017-10-31T10:34:03.437913Z",
     "start_time": "2017-10-31T10:34:03.186112Z"
    }
   },
   "outputs": [
    {
     "data": {
      "text/plain": [
       "['Title:  Bag of Words Data Set',\n",
       " '',\n",
       " 'Abstract: This data set contains five text collections in the form of bags-of-words.',\n",
       " '',\n",
       " '-----------------------------------------------------\\t']"
      ]
     },
     "execution_count": 4,
     "metadata": {},
     "output_type": "execute_result"
    }
   ],
   "source": [
    "# read file\n",
    "text = sc.textFile (\"data/readme.txt\")\n",
    "\n",
    "# get first 5 lines\n",
    "text. take(5)"
   ]
  },
  {
   "cell_type": "code",
   "execution_count": 5,
   "metadata": {
    "ExecuteTime": {
     "end_time": "2017-10-31T10:34:03.494763Z",
     "start_time": "2017-10-31T10:34:03.441106Z"
    }
   },
   "outputs": [
    {
     "data": {
      "text/plain": [
       "'Title:  Bag of Words Data Set'"
      ]
     },
     "execution_count": 5,
     "metadata": {},
     "output_type": "execute_result"
    }
   ],
   "source": [
    "# get first line\n",
    "text. first()"
   ]
  },
  {
   "cell_type": "code",
   "execution_count": 6,
   "metadata": {
    "ExecuteTime": {
     "end_time": "2017-10-31T10:34:03.538457Z",
     "start_time": "2017-10-31T10:34:03.497791Z"
    }
   },
   "outputs": [
    {
     "name": "stdout",
     "output_type": "stream",
     "text": [
      "['Title:  Bag of Words Data Set', '', 'Abstract: This data set contains five text collections in the form of bags-of-words.', '', '-----------------------------------------------------\\t', '', 'Data Set Characteristics: Text', 'Number of Instances: 8000000', 'Area: N/A', 'Attribute Characteristics: Integer', 'Number of Attributes: 100000', 'Date Donated: 2008-03-12', 'Associated Tasks: Clustering', 'Missing Values? N/A', '', '-----------------------------------------------------\\t\\t', '', 'Source:', '', 'David Newman', \"newman '@' uci.edu\", 'University of California, Irvine', '', '-----------------------------------------------------\\t', '', 'Data Set Information:', '', 'For each text collection, D is the number of documents, W is the', 'number of words in the vocabulary, and N is the total number of words', 'in the collection (below, NNZ is the number of nonzero counts in the', 'bag-of-words). After tokenization and removal of stopwords, the', 'vocabulary of unique words was truncated by only keeping words that', 'occurred more than ten times. Individual document names (i.e. a', 'identifier for each docID) are not provided for copyright reasons.', '', 'These data sets have no class labels, and for copyright reasons no', 'filenames or other document-level metadata.  These data sets are ideal', 'for clustering and topic modeling experiments.', '', 'For each text collection we provide docword.*.txt (the bag of words', 'file in sparse format) and vocab.*.txt (the vocab file).', '', 'Enron Emails:', 'orig source: www.cs.cmu.edu/~enron', 'D=39861', 'W=28102', 'N=6,400,000 (approx)', '', 'NIPS full papers:', 'orig source: books.nips.cc', 'D=1500', 'W=12419', 'N=1,900,000 (approx)', '', 'KOS blog entries:', 'orig source: dailykos.com', 'D=3430', 'W=6906', 'N=467714', '', 'NYTimes news articles:', 'orig source: ldc.upenn.edu', 'D=300000', 'W=102660', 'N=100,000,000 (approx)', '', 'PubMed abstracts:', 'orig source: www.pubmed.gov', 'D=8200000', 'W=141043', 'N=730,000,000 (approx)', '', '', '-----------------------------------------------------\\t', '', 'Attribute Information:', '', 'The format of the docword.*.txt file is 3 header lines, followed by', 'NNZ triples:', '---', 'D', 'W', 'NNZ', 'docID wordID count', 'docID wordID count', 'docID wordID count', 'docID wordID count', '...', 'docID wordID count', 'docID wordID count', 'docID wordID count', '---', '', 'The format of the vocab.*.txt file is line contains wordID=n.', '']\n"
     ]
    }
   ],
   "source": [
    "# get all the elements\n",
    "print(text. collect())"
   ]
  },
  {
   "cell_type": "markdown",
   "metadata": {},
   "source": [
    "## Transformations"
   ]
  },
  {
   "cell_type": "code",
   "execution_count": 7,
   "metadata": {
    "ExecuteTime": {
     "end_time": "2017-10-31T10:34:03.604419Z",
     "start_time": "2017-10-31T10:34:03.541300Z"
    }
   },
   "outputs": [
    {
     "data": {
      "text/plain": [
       "[['Title:', 'Bag', 'of', 'Words', 'Data', 'Set'],\n",
       " [],\n",
       " ['Abstract:',\n",
       "  'This',\n",
       "  'data',\n",
       "  'set',\n",
       "  'contains',\n",
       "  'five',\n",
       "  'text',\n",
       "  'collections',\n",
       "  'in',\n",
       "  'the',\n",
       "  'form',\n",
       "  'of',\n",
       "  'bags-of-words.']]"
      ]
     },
     "execution_count": 7,
     "metadata": {},
     "output_type": "execute_result"
    }
   ],
   "source": [
    "# apply a function to every line\n",
    "# return an iterable of iterables with the results\n",
    "text. map(lambda line: line.split()). take(3)"
   ]
  },
  {
   "cell_type": "code",
   "execution_count": 8,
   "metadata": {
    "ExecuteTime": {
     "end_time": "2017-10-31T10:34:03.661387Z",
     "start_time": "2017-10-31T10:34:03.607458Z"
    }
   },
   "outputs": [
    {
     "data": {
      "text/plain": [
       "['Title:',\n",
       " 'Bag',\n",
       " 'of',\n",
       " 'Words',\n",
       " 'Data',\n",
       " 'Set',\n",
       " 'Abstract:',\n",
       " 'This',\n",
       " 'data',\n",
       " 'set']"
      ]
     },
     "execution_count": 8,
     "metadata": {},
     "output_type": "execute_result"
    }
   ],
   "source": [
    "# apply a function to every line\n",
    "# return an iterable with the results\n",
    "text. flatMap(lambda line: line.split()). take(10)"
   ]
  },
  {
   "cell_type": "code",
   "execution_count": 9,
   "metadata": {
    "ExecuteTime": {
     "end_time": "2017-10-31T10:34:03.725456Z",
     "start_time": "2017-10-31T10:34:03.664461Z"
    }
   },
   "outputs": [
    {
     "data": {
      "text/plain": [
       "['orig source: www.cs.cmu.edu/~enron',\n",
       " 'orig source: books.nips.cc',\n",
       " 'orig source: dailykos.com',\n",
       " 'orig source: ldc.upenn.edu',\n",
       " 'orig source: www.pubmed.gov']"
      ]
     },
     "execution_count": 9,
     "metadata": {},
     "output_type": "execute_result"
    }
   ],
   "source": [
    "# reduce the dataset based on a condition\n",
    "text. filter(lambda line: 'source' in line). collect()"
   ]
  },
  {
   "cell_type": "code",
   "execution_count": 10,
   "metadata": {
    "ExecuteTime": {
     "end_time": "2017-10-31T10:34:03.796117Z",
     "start_time": "2017-10-31T10:34:03.732817Z"
    }
   },
   "outputs": [
    {
     "data": {
      "text/plain": [
       "5"
      ]
     },
     "execution_count": 10,
     "metadata": {},
     "output_type": "execute_result"
    }
   ],
   "source": [
    "# count number of elements\n",
    "text. filter(lambda line: 'source' in line). count()"
   ]
  },
  {
   "cell_type": "code",
   "execution_count": 11,
   "metadata": {
    "ExecuteTime": {
     "end_time": "2017-10-31T10:34:03.897227Z",
     "start_time": "2017-10-31T10:34:03.799364Z"
    }
   },
   "outputs": [
    {
     "data": {
      "text/plain": [
       "['Source:', 'University of California, Irvine', '']"
      ]
     },
     "execution_count": 11,
     "metadata": {},
     "output_type": "execute_result"
    }
   ],
   "source": [
    "# sample 3 elements without replacement\n",
    "text.takeSample (False, 3)"
   ]
  },
  {
   "cell_type": "code",
   "execution_count": null,
   "metadata": {
    "collapsed": true
   },
   "outputs": [],
   "source": []
  }
 ],
 "metadata": {
  "kernelspec": {
   "display_name": "Python 3",
   "language": "python",
   "name": "python3"
  },
  "language_info": {
   "codemirror_mode": {
    "name": "ipython",
    "version": 3
   },
   "file_extension": ".py",
   "mimetype": "text/x-python",
   "name": "python",
   "nbconvert_exporter": "python",
   "pygments_lexer": "ipython3",
   "version": "3.6.2"
  }
 },
 "nbformat": 4,
 "nbformat_minor": 2
}
